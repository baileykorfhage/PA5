{
 "cells": [
  {
   "cell_type": "markdown",
   "id": "25bcd63d",
   "metadata": {},
   "source": [
    "# Programming Assignment 5\n",
    "\n",
    "## Bailey Korfhage \n",
    "\n",
    "## Version 1\n",
    "\n",
    "## CS-150-01"
   ]
  },
  {
   "cell_type": "code",
   "execution_count": 8,
   "id": "9234c3ab",
   "metadata": {},
   "outputs": [
    {
     "name": "stdout",
     "output_type": "stream",
     "text": [
      "Enter the length of side A: 5\n",
      "Enter the length of side B: 5\n",
      "Enter the length of side C: 5\n",
      "The area of the triangle is approximately 10.825318 square units.\n",
      "The perimeter of the triangle is 15 linear units.\n"
     ]
    }
   ],
   "source": [
    "from math import sqrt\n",
    "def calcArea(a,b,c):\n",
    "    s=(a+b+c)/2\n",
    "    return sqrt(s*(s-a)*(s-b)*(s-c))\n",
    "def calcPerimeter(a,b,c):\n",
    "    return a+b+c\n",
    "\n",
    "a=int(input('Enter the length of side A: ') or '1')\n",
    "b=int(input('Enter the length of side B: ') or '1')\n",
    "c=int(input('Enter the length of side C: ') or '1')\n",
    "print('The area of the triangle is approximately', round(calcArea(a,b,c),6), 'square units.')\n",
    "print('The perimeter of the triangle is', calcPerimeter(a,b,c), 'linear units.')"
   ]
  },
  {
   "cell_type": "code",
   "execution_count": 2,
   "id": "dcab42db",
   "metadata": {},
   "outputs": [
    {
     "name": "stdout",
     "output_type": "stream",
     "text": [
      "Enter a number between 1 to 1000: 500\n",
      "Too low! Guess again\n",
      "Enter a number between 1 to 1000: 750\n",
      "Too low! Guess again\n",
      "Enter a number between 1 to 1000: 800\n",
      "Too low! Guess again\n",
      "Enter a number between 1 to 1000: 900\n",
      "Too low! Guess again\n",
      "Enter a number between 1 to 1000: 950\n",
      "Too low! Guess again\n",
      "Enter a number between 1 to 1000: 975\n",
      "Too low! Guess again\n",
      "Enter a number between 1 to 1000: 999\n",
      "Too high! Guess again\n",
      "Enter a number between 1 to 1000: 980\n",
      "Too low! Guess again\n",
      "Enter a number between 1 to 1000: 985\n",
      "Too low! Guess again\n",
      "Enter a number between 1 to 1000: 990\n",
      "Correct!\n"
     ]
    }
   ],
   "source": [
    "import random\n",
    "number=random.randint(1,1001) #includes last number\n",
    "enterednumber=None\n",
    "time=0\n",
    "\n",
    "while enterednumber!=number:\n",
    "    enterednumber = int(input('Enter a number between 1 to 1000: '))\n",
    "    if enterednumber>number:\n",
    "        print('Too high! Guess again')\n",
    "    elif enterednumber<number:\n",
    "        print('Too low! Guess again')\n",
    "    else:\n",
    "        print('Correct!')"
   ]
  },
  {
   "cell_type": "code",
   "execution_count": 7,
   "id": "c3703101",
   "metadata": {},
   "outputs": [
    {
     "name": "stdout",
     "output_type": "stream",
     "text": [
      "The mean temperature for the past 3 days is 31.67 degrees Fahrenheit.\n",
      "The mean temperature for the past 6 days is 30.83 degrees Fahrenheit.\n"
     ]
    }
   ],
   "source": [
    "def meanTemp(*temps):\n",
    "    return (sum(temps)/len(temps))\n",
    "def days(*temps):0\n",
    "    return len(temps)\n",
    "\n",
    "print('The mean temperature for the past', days(29,32,34),'days is', round(meanTemp(29,32,34),2), 'degrees Fahrenheit.')\n",
    "print('The mean temperature for the past', days(30,32,12,45,32,34), 'days is', round(meanTemp(30,32,12,45,32,34),2), 'degrees Fahrenheit.')"
   ]
  }
 ],
 "metadata": {
  "kernelspec": {
   "display_name": "Python 3 (ipykernel)",
   "language": "python",
   "name": "python3"
  },
  "language_info": {
   "codemirror_mode": {
    "name": "ipython",
    "version": 3
   },
   "file_extension": ".py",
   "mimetype": "text/x-python",
   "name": "python",
   "nbconvert_exporter": "python",
   "pygments_lexer": "ipython3",
   "version": "3.9.12"
  }
 },
 "nbformat": 4,
 "nbformat_minor": 5
}
